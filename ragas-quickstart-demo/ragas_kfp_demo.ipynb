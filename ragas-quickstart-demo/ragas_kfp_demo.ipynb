{
 "cells": [
  {
   "cell_type": "markdown",
   "metadata": {},
   "source": [
    "# Ragas Evaluation Demo  -- Remote execution on Kubeflow Pipelines\n",
    "\n",
    "- This notebook demonstrates how to run Ragas evaluation on Kubeflow Pipelines.\n",
    "- See README.md for details on how to setup the demo.\n"
   ]
  },
  {
   "cell_type": "markdown",
   "metadata": {},
   "source": [
    "## Imports\n"
   ]
  },
  {
   "cell_type": "code",
   "execution_count": 1,
   "metadata": {},
   "outputs": [
    {
     "name": "stderr",
     "output_type": "stream",
     "text": [
      "/Users/dmanilof/src/trustyai-llm-demo/ragas-quickstart-demo/.venv/lib/python3.13/site-packages/tqdm/auto.py:21: TqdmWarning: IProgress not found. Please update jupyter and ipywidgets. See https://ipywidgets.readthedocs.io/en/stable/user_install.html\n",
      "  from .autonotebook import tqdm as notebook_tqdm\n"
     ]
    },
    {
     "data": {
      "text/plain": [
       "True"
      ]
     },
     "execution_count": 1,
     "metadata": {},
     "output_type": "execute_result"
    }
   ],
   "source": [
    "import os\n",
    "import pandas as pd\n",
    "from dotenv import load_dotenv\n",
    "from langchain_core.prompt_values import StringPromptValue\n",
    "from langchain_ollama import OllamaEmbeddings, OllamaLLM\n",
    "from ragas.embeddings.base import LangchainEmbeddingsWrapper\n",
    "from ragas.llms.base import LangchainLLMWrapper\n",
    "from rich.pretty import pprint\n",
    "\n",
    "from magenta_pipelines.config import EvalConfig, KubeflowConfig\n",
    "from magenta_pipelines.pipeline_runner import PipelineRunner\n",
    "\n",
    "load_dotenv()"
   ]
  },
  {
   "cell_type": "markdown",
   "metadata": {},
   "source": [
    "## Load configs from .env"
   ]
  },
  {
   "cell_type": "code",
   "execution_count": 2,
   "metadata": {},
   "outputs": [],
   "source": [
    "# load configs from .env\n",
    "kfp_config = KubeflowConfig()"
   ]
  },
  {
   "cell_type": "markdown",
   "metadata": {},
   "source": [
    "## Inference setup (generations and embeddings)\n",
    "- You can use any OpenAI API compatible model and wrap it with the Ragas LangchainLLMWrapper or LangchainEmbeddingsWrapper\n",
    "- This example uses Ollama"
   ]
  },
  {
   "cell_type": "code",
   "execution_count": 3,
   "metadata": {},
   "outputs": [
    {
     "data": {
      "text/plain": [
       "LLMResult(generations=[[GenerationChunk(text=\"Why don't scientists trust atoms? Because they make up everything!\", generation_info={'model': 'granite3.3:2b', 'created_at': '2025-08-26T01:46:29.487983Z', 'done': True, 'done_reason': 'stop', 'total_duration': 1398585709, 'load_duration': 1103697375, 'prompt_eval_count': 48, 'prompt_eval_duration': 103471458, 'eval_count': 16, 'eval_duration': 190822500, 'response': '', 'thinking': None, 'context': [49152, 2946, 49153, 39558, 390, 17071, 2821, 44, 30468, 225, 36, 34, 36, 38, 32, 203, 4282, 884, 8080, 278, 659, 30, 18909, 810, 25697, 32, 2448, 884, 312, 17247, 19551, 47330, 32, 0, 203, 49152, 496, 49153, 46020, 597, 312, 8725, 479, 0, 203, 49152, 17594, 49153, 24402, 2800, 1330, 2197, 1606, 3045, 18074, 27898, 49, 18369, 2953, 1930, 973, 8989, 19]})]], llm_output=None, run=[RunInfo(run_id=UUID('9e2a7bb2-d3b9-4acb-80ac-968aecee61ce'))], type='LLMResult')"
      ]
     },
     "execution_count": 3,
     "metadata": {},
     "output_type": "execute_result"
    }
   ],
   "source": [
    "llm_client = LangchainLLMWrapper(\n",
    "    OllamaLLM(model=\"granite3.3:2b\", base_url=os.environ[\"INFERENCE_URL\"])\n",
    ")\n",
    "llm_client.generate_text(\n",
    "    StringPromptValue(text=\"Tell me a joke\")\n",
    ")  # StringPromptValue is the way Ragas will invoke the LLM"
   ]
  },
  {
   "cell_type": "code",
   "execution_count": 4,
   "metadata": {},
   "outputs": [],
   "source": [
    "embedding_client = LangchainEmbeddingsWrapper(\n",
    "    OllamaEmbeddings(\n",
    "        model=\"all-minilm:l6-v2\",\n",
    "        base_url=os.environ[\"INFERENCE_URL\"],\n",
    "    )\n",
    ")\n",
    "embedded_documents = embedding_client.embed_documents([\"Hello, world!\"])\n",
    "assert len(embedded_documents[0]) == 384  # l6-v2 has 384 dimensions"
   ]
  },
  {
   "cell_type": "markdown",
   "metadata": {},
   "source": [
    "## Dataset Preparation\n",
    "\n",
    "Create a sample RAG evaluation dataset. In a real scenario, you would load your own dataset.\n"
   ]
  },
  {
   "cell_type": "code",
   "execution_count": 5,
   "metadata": {},
   "outputs": [],
   "source": [
    "# Sample Ragas evaluation dataset\n",
    "evaluation_data = [\n",
    "    {\n",
    "        \"user_input\": \"What is the capital of France?\",\n",
    "        \"response\": \"The capital of France is Paris.\",\n",
    "        \"retrieved_contexts\": [\n",
    "            \"Paris is the capital and most populous city of France.\"\n",
    "        ],\n",
    "        \"reference\": \"Paris\",\n",
    "    },\n",
    "    {\n",
    "        \"user_input\": \"Who invented the telephone?\",\n",
    "        \"response\": \"Alexander Graham Bell invented the telephone in 1876.\",\n",
    "        \"retrieved_contexts\": [\n",
    "            \"Alexander Graham Bell was a Scottish-American inventor who patented the first practical telephone.\"\n",
    "        ],\n",
    "        \"reference\": \"Alexander Graham Bell\",\n",
    "    },\n",
    "    {\n",
    "        \"user_input\": \"What is photosynthesis?\",\n",
    "        \"response\": \"Photosynthesis is the process by which plants convert sunlight into energy.\",\n",
    "        \"retrieved_contexts\": [\n",
    "            \"Photosynthesis is a process used by plants to convert light energy into chemical energy.\"\n",
    "        ],\n",
    "        \"reference\": \"Photosynthesis is the process by which plants and other organisms convert light energy into chemical energy.\",\n",
    "    },\n",
    "]"
   ]
  },
  {
   "cell_type": "markdown",
   "metadata": {},
   "source": [
    "## Upload the dataset to S3\n",
    "\n",
    "Register the dataset with Llama Stack's Datasets API using the direct rows approach.\n"
   ]
  },
  {
   "cell_type": "code",
   "execution_count": 6,
   "metadata": {},
   "outputs": [],
   "source": [
    "S3_PREFIX = \"s3://public-rhods/ragas-evaluation-pipeline\"\n",
    "dataset_id = \"ragas_demo_dataset_remote\"\n",
    "input_dataset_uri = f\"{S3_PREFIX}/{dataset_id}_input.jsonl\"\n",
    "output_dataset_uri = f\"{S3_PREFIX}/{dataset_id}_output.jsonl\""
   ]
  },
  {
   "cell_type": "code",
   "execution_count": 7,
   "metadata": {},
   "outputs": [],
   "source": [
    "# upload the dataset to S3\n",
    "pd.DataFrame(evaluation_data).to_json(input_dataset_uri, orient=\"records\", lines=True)"
   ]
  },
  {
   "cell_type": "markdown",
   "metadata": {},
   "source": [
    "## Evaluation Execution"
   ]
  },
  {
   "cell_type": "code",
   "execution_count": 8,
   "metadata": {},
   "outputs": [
    {
     "name": "stderr",
     "output_type": "stream",
     "text": [
      "/Users/dmanilof/src/trustyai-llm-demo/ragas-quickstart-demo/.venv/lib/python3.13/site-packages/kfp/client/client.py:159: FutureWarning: This client only works with Kubeflow Pipeline v2.0.0-beta.2 and later versions.\n",
      "  warnings.warn(\n"
     ]
    }
   ],
   "source": [
    "pipeline_runner = PipelineRunner(kfp_config)\n"
   ]
  },
  {
   "cell_type": "code",
   "execution_count": 9,
   "metadata": {},
   "outputs": [
    {
     "data": {
      "text/html": [
       "<a href=\"https://ds-pipeline-dspa-ragas-eval-v3.apps.rosa.diego-ragas.zch5.p3.openshiftapps.com/#/experiments/details/f2930ce2-9a8d-495d-823b-5b7aacd3cea6\" target=\"_blank\" >Experiment details</a>."
      ],
      "text/plain": [
       "<IPython.core.display.HTML object>"
      ]
     },
     "metadata": {},
     "output_type": "display_data"
    },
    {
     "data": {
      "text/html": [
       "<a href=\"https://ds-pipeline-dspa-ragas-eval-v3.apps.rosa.diego-ragas.zch5.p3.openshiftapps.com/#/runs/details/c82567ad-644c-42ce-b91f-22d06378ce29\" target=\"_blank\" >Run details</a>."
      ],
      "text/plain": [
       "<IPython.core.display.HTML object>"
      ]
     },
     "metadata": {},
     "output_type": "display_data"
    },
    {
     "data": {
      "text/html": [
       "<pre style=\"white-space:pre;overflow-x:auto;line-height:normal;font-family:Menlo,'DejaVu Sans Mono',consolas,'Courier New',monospace\"><span style=\"color: #800080; text-decoration-color: #800080; font-weight: bold\">EvalJob</span><span style=\"font-weight: bold\">(</span>\n",
       "<span style=\"color: #7fbf7f; text-decoration-color: #7fbf7f\">│   </span><span style=\"color: #808000; text-decoration-color: #808000\">job_id</span>=<span style=\"color: #008000; text-decoration-color: #008000\">'6b7adf44-f5f1-49a0-9330-d05d21b50f72'</span>,\n",
       "<span style=\"color: #7fbf7f; text-decoration-color: #7fbf7f\">│   </span><span style=\"color: #808000; text-decoration-color: #808000\">status</span>=<span style=\"color: #008000; text-decoration-color: #008000\">'submitted'</span>,\n",
       "<span style=\"color: #7fbf7f; text-decoration-color: #7fbf7f\">│   </span><span style=\"color: #808000; text-decoration-color: #808000\">eval_config</span>=<span style=\"color: #800080; text-decoration-color: #800080; font-weight: bold\">EvalConfig</span><span style=\"font-weight: bold\">(</span>\n",
       "<span style=\"color: #7fbf7f; text-decoration-color: #7fbf7f\">│   │   </span><span style=\"color: #808000; text-decoration-color: #808000\">input_dataset_uri</span>=<span style=\"color: #008000; text-decoration-color: #008000\">'s3://public-rhods/ragas-evaluation-pipeline/ragas_demo_dataset_remote_input.jsonl'</span>,\n",
       "<span style=\"color: #7fbf7f; text-decoration-color: #7fbf7f\">│   │   </span><span style=\"color: #808000; text-decoration-color: #808000\">output_dataset_uri</span>=<span style=\"color: #008000; text-decoration-color: #008000\">'s3://public-rhods/ragas-evaluation-pipeline/ragas_demo_dataset_remote_output.jsonl'</span>,\n",
       "<span style=\"color: #7fbf7f; text-decoration-color: #7fbf7f\">│   │   </span><span style=\"color: #808000; text-decoration-color: #808000\">inference_url</span>=<span style=\"color: #008000; text-decoration-color: #008000\">'https://83e9089ea2c2.ngrok-free.app'</span>,\n",
       "<span style=\"color: #7fbf7f; text-decoration-color: #7fbf7f\">│   │   </span><span style=\"color: #808000; text-decoration-color: #808000\">model</span>=<span style=\"color: #008000; text-decoration-color: #008000\">'granite3.3:2b'</span>,\n",
       "<span style=\"color: #7fbf7f; text-decoration-color: #7fbf7f\">│   │   </span><span style=\"color: #808000; text-decoration-color: #808000\">model_params</span>=<span style=\"font-weight: bold\">{</span><span style=\"color: #008000; text-decoration-color: #008000\">'temperature'</span>: <span style=\"color: #008080; text-decoration-color: #008080; font-weight: bold\">0.1</span>, <span style=\"color: #008000; text-decoration-color: #008000\">'max_tokens'</span>: <span style=\"color: #008080; text-decoration-color: #008080; font-weight: bold\">100</span><span style=\"font-weight: bold\">}</span>,\n",
       "<span style=\"color: #7fbf7f; text-decoration-color: #7fbf7f\">│   │   </span><span style=\"color: #808000; text-decoration-color: #808000\">embedding_model</span>=<span style=\"color: #008000; text-decoration-color: #008000\">'all-minilm:l6-v2'</span>,\n",
       "<span style=\"color: #7fbf7f; text-decoration-color: #7fbf7f\">│   │   </span><span style=\"color: #808000; text-decoration-color: #808000\">metric_names</span>=<span style=\"font-weight: bold\">[</span><span style=\"color: #008000; text-decoration-color: #008000\">'answer_relevancy'</span>, <span style=\"color: #008000; text-decoration-color: #008000\">'context_precision'</span>, <span style=\"color: #008000; text-decoration-color: #008000\">'faithfulness'</span>, <span style=\"color: #008000; text-decoration-color: #008000\">'context_recall'</span><span style=\"font-weight: bold\">]</span>,\n",
       "<span style=\"color: #7fbf7f; text-decoration-color: #7fbf7f\">│   │   </span><span style=\"color: #808000; text-decoration-color: #808000\">ragas_config</span>=<span style=\"color: #800080; text-decoration-color: #800080; font-weight: bold\">RagasConfig</span><span style=\"font-weight: bold\">(</span><span style=\"color: #808000; text-decoration-color: #808000\">batch_size</span>=<span style=\"color: #800080; text-decoration-color: #800080; font-style: italic\">None</span>, <span style=\"color: #808000; text-decoration-color: #808000\">show_progress</span>=<span style=\"color: #00ff00; text-decoration-color: #00ff00; font-style: italic\">True</span>, <span style=\"color: #808000; text-decoration-color: #808000\">raise_exceptions</span>=<span style=\"color: #00ff00; text-decoration-color: #00ff00; font-style: italic\">True</span>, <span style=\"color: #808000; text-decoration-color: #808000\">column_map</span>=<span style=\"color: #800080; text-decoration-color: #800080; font-style: italic\">None</span><span style=\"font-weight: bold\">)</span>\n",
       "<span style=\"color: #7fbf7f; text-decoration-color: #7fbf7f\">│   </span><span style=\"font-weight: bold\">)</span>,\n",
       "<span style=\"color: #7fbf7f; text-decoration-color: #7fbf7f\">│   </span><span style=\"color: #808000; text-decoration-color: #808000\">kubeflow_run_id</span>=<span style=\"color: #008000; text-decoration-color: #008000\">'c82567ad-644c-42ce-b91f-22d06378ce29'</span>,\n",
       "<span style=\"color: #7fbf7f; text-decoration-color: #7fbf7f\">│   </span><span style=\"color: #808000; text-decoration-color: #808000\">result</span>=<span style=\"color: #800080; text-decoration-color: #800080; font-style: italic\">None</span>\n",
       "<span style=\"font-weight: bold\">)</span>\n",
       "</pre>\n"
      ],
      "text/plain": [
       "\u001b[1;35mEvalJob\u001b[0m\u001b[1m(\u001b[0m\n",
       "\u001b[2;32m│   \u001b[0m\u001b[33mjob_id\u001b[0m=\u001b[32m'6b7adf44-f5f1-49a0-9330-d05d21b50f72'\u001b[0m,\n",
       "\u001b[2;32m│   \u001b[0m\u001b[33mstatus\u001b[0m=\u001b[32m'submitted'\u001b[0m,\n",
       "\u001b[2;32m│   \u001b[0m\u001b[33meval_config\u001b[0m=\u001b[1;35mEvalConfig\u001b[0m\u001b[1m(\u001b[0m\n",
       "\u001b[2;32m│   │   \u001b[0m\u001b[33minput_dataset_uri\u001b[0m=\u001b[32m's3://public-rhods/ragas-evaluation-pipeline/ragas_demo_dataset_remote_input.jsonl'\u001b[0m,\n",
       "\u001b[2;32m│   │   \u001b[0m\u001b[33moutput_dataset_uri\u001b[0m=\u001b[32m's3://public-rhods/ragas-evaluation-pipeline/ragas_demo_dataset_remote_output.jsonl'\u001b[0m,\n",
       "\u001b[2;32m│   │   \u001b[0m\u001b[33minference_url\u001b[0m=\u001b[32m'https://83e9089ea2c2.ngrok-free.app'\u001b[0m,\n",
       "\u001b[2;32m│   │   \u001b[0m\u001b[33mmodel\u001b[0m=\u001b[32m'granite3.3:2b'\u001b[0m,\n",
       "\u001b[2;32m│   │   \u001b[0m\u001b[33mmodel_params\u001b[0m=\u001b[1m{\u001b[0m\u001b[32m'temperature'\u001b[0m: \u001b[1;36m0.1\u001b[0m, \u001b[32m'max_tokens'\u001b[0m: \u001b[1;36m100\u001b[0m\u001b[1m}\u001b[0m,\n",
       "\u001b[2;32m│   │   \u001b[0m\u001b[33membedding_model\u001b[0m=\u001b[32m'all-minilm:l6-v2'\u001b[0m,\n",
       "\u001b[2;32m│   │   \u001b[0m\u001b[33mmetric_names\u001b[0m=\u001b[1m[\u001b[0m\u001b[32m'answer_relevancy'\u001b[0m, \u001b[32m'context_precision'\u001b[0m, \u001b[32m'faithfulness'\u001b[0m, \u001b[32m'context_recall'\u001b[0m\u001b[1m]\u001b[0m,\n",
       "\u001b[2;32m│   │   \u001b[0m\u001b[33mragas_config\u001b[0m=\u001b[1;35mRagasConfig\u001b[0m\u001b[1m(\u001b[0m\u001b[33mbatch_size\u001b[0m=\u001b[3;35mNone\u001b[0m, \u001b[33mshow_progress\u001b[0m=\u001b[3;92mTrue\u001b[0m, \u001b[33mraise_exceptions\u001b[0m=\u001b[3;92mTrue\u001b[0m, \u001b[33mcolumn_map\u001b[0m=\u001b[3;35mNone\u001b[0m\u001b[1m)\u001b[0m\n",
       "\u001b[2;32m│   \u001b[0m\u001b[1m)\u001b[0m,\n",
       "\u001b[2;32m│   \u001b[0m\u001b[33mkubeflow_run_id\u001b[0m=\u001b[32m'c82567ad-644c-42ce-b91f-22d06378ce29'\u001b[0m,\n",
       "\u001b[2;32m│   \u001b[0m\u001b[33mresult\u001b[0m=\u001b[3;35mNone\u001b[0m\n",
       "\u001b[1m)\u001b[0m\n"
      ]
     },
     "metadata": {},
     "output_type": "display_data"
    }
   ],
   "source": [
    "eval_config = EvalConfig(\n",
    "    model=\"granite3.3:2b\",\n",
    "    model_params={\"temperature\": 0.1, \"max_tokens\": 100},\n",
    "    embedding_model=\"all-minilm:l6-v2\",\n",
    "    metric_names=[\"answer_relevance\"],\n",
    "    input_dataset_uri=input_dataset_uri,\n",
    "    output_dataset_uri=output_dataset_uri,\n",
    "    # inference_url is read from .env\n",
    ")\n",
    "job = pipeline_runner.run_eval(eval_config)\n",
    "pprint(job)"
   ]
  },
  {
   "cell_type": "markdown",
   "metadata": {},
   "source": [
    "## 8. Results Display\n"
   ]
  },
  {
   "cell_type": "code",
   "execution_count": 10,
   "metadata": {},
   "outputs": [
    {
     "data": {
      "text/html": [
       "<pre style=\"white-space:pre;overflow-x:auto;line-height:normal;font-family:Menlo,'DejaVu Sans Mono',consolas,'Courier New',monospace\"><span style=\"color: #800080; text-decoration-color: #800080; font-weight: bold\">EvalJob</span><span style=\"font-weight: bold\">(</span>\n",
       "<span style=\"color: #7fbf7f; text-decoration-color: #7fbf7f\">│   </span><span style=\"color: #808000; text-decoration-color: #808000\">job_id</span>=<span style=\"color: #008000; text-decoration-color: #008000\">'6b7adf44-f5f1-49a0-9330-d05d21b50f72'</span>,\n",
       "<span style=\"color: #7fbf7f; text-decoration-color: #7fbf7f\">│   </span><span style=\"color: #808000; text-decoration-color: #808000\">status</span>=<span style=\"color: #008000; text-decoration-color: #008000\">'in_progress'</span>,\n",
       "<span style=\"color: #7fbf7f; text-decoration-color: #7fbf7f\">│   </span><span style=\"color: #808000; text-decoration-color: #808000\">eval_config</span>=<span style=\"color: #800080; text-decoration-color: #800080; font-weight: bold\">EvalConfig</span><span style=\"font-weight: bold\">(</span>\n",
       "<span style=\"color: #7fbf7f; text-decoration-color: #7fbf7f\">│   │   </span><span style=\"color: #808000; text-decoration-color: #808000\">input_dataset_uri</span>=<span style=\"color: #008000; text-decoration-color: #008000\">'s3://public-rhods/ragas-evaluation-pipeline/ragas_demo_dataset_remote_input.jsonl'</span>,\n",
       "<span style=\"color: #7fbf7f; text-decoration-color: #7fbf7f\">│   │   </span><span style=\"color: #808000; text-decoration-color: #808000\">output_dataset_uri</span>=<span style=\"color: #008000; text-decoration-color: #008000\">'s3://public-rhods/ragas-evaluation-pipeline/ragas_demo_dataset_remote_output.jsonl'</span>,\n",
       "<span style=\"color: #7fbf7f; text-decoration-color: #7fbf7f\">│   │   </span><span style=\"color: #808000; text-decoration-color: #808000\">inference_url</span>=<span style=\"color: #008000; text-decoration-color: #008000\">'https://83e9089ea2c2.ngrok-free.app'</span>,\n",
       "<span style=\"color: #7fbf7f; text-decoration-color: #7fbf7f\">│   │   </span><span style=\"color: #808000; text-decoration-color: #808000\">model</span>=<span style=\"color: #008000; text-decoration-color: #008000\">'granite3.3:2b'</span>,\n",
       "<span style=\"color: #7fbf7f; text-decoration-color: #7fbf7f\">│   │   </span><span style=\"color: #808000; text-decoration-color: #808000\">model_params</span>=<span style=\"font-weight: bold\">{</span><span style=\"color: #008000; text-decoration-color: #008000\">'temperature'</span>: <span style=\"color: #008080; text-decoration-color: #008080; font-weight: bold\">0.1</span>, <span style=\"color: #008000; text-decoration-color: #008000\">'max_tokens'</span>: <span style=\"color: #008080; text-decoration-color: #008080; font-weight: bold\">100</span><span style=\"font-weight: bold\">}</span>,\n",
       "<span style=\"color: #7fbf7f; text-decoration-color: #7fbf7f\">│   │   </span><span style=\"color: #808000; text-decoration-color: #808000\">embedding_model</span>=<span style=\"color: #008000; text-decoration-color: #008000\">'all-minilm:l6-v2'</span>,\n",
       "<span style=\"color: #7fbf7f; text-decoration-color: #7fbf7f\">│   │   </span><span style=\"color: #808000; text-decoration-color: #808000\">metric_names</span>=<span style=\"font-weight: bold\">[</span><span style=\"color: #008000; text-decoration-color: #008000\">'answer_relevancy'</span>, <span style=\"color: #008000; text-decoration-color: #008000\">'context_precision'</span>, <span style=\"color: #008000; text-decoration-color: #008000\">'faithfulness'</span>, <span style=\"color: #008000; text-decoration-color: #008000\">'context_recall'</span><span style=\"font-weight: bold\">]</span>,\n",
       "<span style=\"color: #7fbf7f; text-decoration-color: #7fbf7f\">│   │   </span><span style=\"color: #808000; text-decoration-color: #808000\">ragas_config</span>=<span style=\"color: #800080; text-decoration-color: #800080; font-weight: bold\">RagasConfig</span><span style=\"font-weight: bold\">(</span><span style=\"color: #808000; text-decoration-color: #808000\">batch_size</span>=<span style=\"color: #800080; text-decoration-color: #800080; font-style: italic\">None</span>, <span style=\"color: #808000; text-decoration-color: #808000\">show_progress</span>=<span style=\"color: #00ff00; text-decoration-color: #00ff00; font-style: italic\">True</span>, <span style=\"color: #808000; text-decoration-color: #808000\">raise_exceptions</span>=<span style=\"color: #00ff00; text-decoration-color: #00ff00; font-style: italic\">True</span>, <span style=\"color: #808000; text-decoration-color: #808000\">column_map</span>=<span style=\"color: #800080; text-decoration-color: #800080; font-style: italic\">None</span><span style=\"font-weight: bold\">)</span>\n",
       "<span style=\"color: #7fbf7f; text-decoration-color: #7fbf7f\">│   </span><span style=\"font-weight: bold\">)</span>,\n",
       "<span style=\"color: #7fbf7f; text-decoration-color: #7fbf7f\">│   </span><span style=\"color: #808000; text-decoration-color: #808000\">kubeflow_run_id</span>=<span style=\"color: #008000; text-decoration-color: #008000\">'c82567ad-644c-42ce-b91f-22d06378ce29'</span>,\n",
       "<span style=\"color: #7fbf7f; text-decoration-color: #7fbf7f\">│   </span><span style=\"color: #808000; text-decoration-color: #808000\">result</span>=<span style=\"color: #800080; text-decoration-color: #800080; font-style: italic\">None</span>\n",
       "<span style=\"font-weight: bold\">)</span>\n",
       "</pre>\n"
      ],
      "text/plain": [
       "\u001b[1;35mEvalJob\u001b[0m\u001b[1m(\u001b[0m\n",
       "\u001b[2;32m│   \u001b[0m\u001b[33mjob_id\u001b[0m=\u001b[32m'6b7adf44-f5f1-49a0-9330-d05d21b50f72'\u001b[0m,\n",
       "\u001b[2;32m│   \u001b[0m\u001b[33mstatus\u001b[0m=\u001b[32m'in_progress'\u001b[0m,\n",
       "\u001b[2;32m│   \u001b[0m\u001b[33meval_config\u001b[0m=\u001b[1;35mEvalConfig\u001b[0m\u001b[1m(\u001b[0m\n",
       "\u001b[2;32m│   │   \u001b[0m\u001b[33minput_dataset_uri\u001b[0m=\u001b[32m's3://public-rhods/ragas-evaluation-pipeline/ragas_demo_dataset_remote_input.jsonl'\u001b[0m,\n",
       "\u001b[2;32m│   │   \u001b[0m\u001b[33moutput_dataset_uri\u001b[0m=\u001b[32m's3://public-rhods/ragas-evaluation-pipeline/ragas_demo_dataset_remote_output.jsonl'\u001b[0m,\n",
       "\u001b[2;32m│   │   \u001b[0m\u001b[33minference_url\u001b[0m=\u001b[32m'https://83e9089ea2c2.ngrok-free.app'\u001b[0m,\n",
       "\u001b[2;32m│   │   \u001b[0m\u001b[33mmodel\u001b[0m=\u001b[32m'granite3.3:2b'\u001b[0m,\n",
       "\u001b[2;32m│   │   \u001b[0m\u001b[33mmodel_params\u001b[0m=\u001b[1m{\u001b[0m\u001b[32m'temperature'\u001b[0m: \u001b[1;36m0.1\u001b[0m, \u001b[32m'max_tokens'\u001b[0m: \u001b[1;36m100\u001b[0m\u001b[1m}\u001b[0m,\n",
       "\u001b[2;32m│   │   \u001b[0m\u001b[33membedding_model\u001b[0m=\u001b[32m'all-minilm:l6-v2'\u001b[0m,\n",
       "\u001b[2;32m│   │   \u001b[0m\u001b[33mmetric_names\u001b[0m=\u001b[1m[\u001b[0m\u001b[32m'answer_relevancy'\u001b[0m, \u001b[32m'context_precision'\u001b[0m, \u001b[32m'faithfulness'\u001b[0m, \u001b[32m'context_recall'\u001b[0m\u001b[1m]\u001b[0m,\n",
       "\u001b[2;32m│   │   \u001b[0m\u001b[33mragas_config\u001b[0m=\u001b[1;35mRagasConfig\u001b[0m\u001b[1m(\u001b[0m\u001b[33mbatch_size\u001b[0m=\u001b[3;35mNone\u001b[0m, \u001b[33mshow_progress\u001b[0m=\u001b[3;92mTrue\u001b[0m, \u001b[33mraise_exceptions\u001b[0m=\u001b[3;92mTrue\u001b[0m, \u001b[33mcolumn_map\u001b[0m=\u001b[3;35mNone\u001b[0m\u001b[1m)\u001b[0m\n",
       "\u001b[2;32m│   \u001b[0m\u001b[1m)\u001b[0m,\n",
       "\u001b[2;32m│   \u001b[0m\u001b[33mkubeflow_run_id\u001b[0m=\u001b[32m'c82567ad-644c-42ce-b91f-22d06378ce29'\u001b[0m,\n",
       "\u001b[2;32m│   \u001b[0m\u001b[33mresult\u001b[0m=\u001b[3;35mNone\u001b[0m\n",
       "\u001b[1m)\u001b[0m\n"
      ]
     },
     "metadata": {},
     "output_type": "display_data"
    }
   ],
   "source": [
    "pprint(pipeline_runner.job_status(job_id=job.job_id))"
   ]
  },
  {
   "cell_type": "code",
   "execution_count": 14,
   "metadata": {},
   "outputs": [
    {
     "data": {
      "text/html": [
       "<pre style=\"white-space:pre;overflow-x:auto;line-height:normal;font-family:Menlo,'DejaVu Sans Mono',consolas,'Courier New',monospace\"><span style=\"font-style: italic\">                                               Fetched Evaluation Results                                               </span>\n",
       "┏━━━━━━━━━━━━━━┳━━━━━━━━━━━━━━┳━━━━━━━━━━━━━━┳━━━━━━━━━━━━━━┳━━━━━━━━━━━━━━┳━━━━━━━━━━━━━━┳━━━━━━━━━━━━━━┳━━━━━━━━━━━━━┓\n",
       "┃<span style=\"font-weight: bold\"> user_input   </span>┃<span style=\"font-weight: bold\"> retrieved_c… </span>┃<span style=\"font-weight: bold\"> response     </span>┃<span style=\"font-weight: bold\"> reference    </span>┃<span style=\"font-weight: bold\"> answer_rele… </span>┃<span style=\"font-weight: bold\"> context_pre… </span>┃<span style=\"font-weight: bold\"> faithfulness </span>┃<span style=\"font-weight: bold\"> context_re… </span>┃\n",
       "┡━━━━━━━━━━━━━━╇━━━━━━━━━━━━━━╇━━━━━━━━━━━━━━╇━━━━━━━━━━━━━━╇━━━━━━━━━━━━━━╇━━━━━━━━━━━━━━╇━━━━━━━━━━━━━━╇━━━━━━━━━━━━━┩\n",
       "│ What is the  │ ['Paris is   │ The capital  │ Paris        │ 0.962092759  │ 0.9999999999 │ 1            │ 0.66666666… │\n",
       "│ capital of   │ the capital  │ of France is │              │              │              │              │             │\n",
       "│ France?      │ and most     │ Paris.       │              │              │              │              │             │\n",
       "│              │ populous     │              │              │              │              │              │             │\n",
       "│              │ city of      │              │              │              │              │              │             │\n",
       "│              │ France.']    │              │              │              │              │              │             │\n",
       "│ Who invented │ ['Alexander  │ Alexander    │ Alexander    │ 1.0          │ 0.9999999999 │ 1            │ 0.66666666… │\n",
       "│ the          │ Graham Bell  │ Graham Bell  │ Graham Bell  │              │              │              │             │\n",
       "│ telephone?   │ was a        │ invented the │              │              │              │              │             │\n",
       "│              │ Scottish-Am… │ telephone in │              │              │              │              │             │\n",
       "│              │ inventor who │ 1876.        │              │              │              │              │             │\n",
       "│              │ patented the │              │              │              │              │              │             │\n",
       "│              │ first        │              │              │              │              │              │             │\n",
       "│              │ practical    │              │              │              │              │              │             │\n",
       "│              │ telephone.'] │              │              │              │              │              │             │\n",
       "│ What is      │ ['Photosynt… │ Photosynthe… │ Photosynthe… │ 1.0          │ 0.9999999999 │ 1            │ 0.66666666… │\n",
       "│ photosynthe… │ is a process │ is the       │ is the       │              │              │              │             │\n",
       "│              │ used by      │ process by   │ process by   │              │              │              │             │\n",
       "│              │ plants to    │ which plants │ which plants │              │              │              │             │\n",
       "│              │ convert      │ convert      │ and other    │              │              │              │             │\n",
       "│              │ light energy │ sunlight     │ organisms    │              │              │              │             │\n",
       "│              │ into         │ into energy. │ convert      │              │              │              │             │\n",
       "│              │ chemical     │              │ light energy │              │              │              │             │\n",
       "│              │ energy.']    │              │ into         │              │              │              │             │\n",
       "│              │              │              │ chemical     │              │              │              │             │\n",
       "│              │              │              │ energy.      │              │              │              │             │\n",
       "└──────────────┴──────────────┴──────────────┴──────────────┴──────────────┴──────────────┴──────────────┴─────────────┘\n",
       "</pre>\n"
      ],
      "text/plain": [
       "\u001b[3m                                               Fetched Evaluation Results                                               \u001b[0m\n",
       "┏━━━━━━━━━━━━━━┳━━━━━━━━━━━━━━┳━━━━━━━━━━━━━━┳━━━━━━━━━━━━━━┳━━━━━━━━━━━━━━┳━━━━━━━━━━━━━━┳━━━━━━━━━━━━━━┳━━━━━━━━━━━━━┓\n",
       "┃\u001b[1m \u001b[0m\u001b[1muser_input  \u001b[0m\u001b[1m \u001b[0m┃\u001b[1m \u001b[0m\u001b[1mretrieved_c…\u001b[0m\u001b[1m \u001b[0m┃\u001b[1m \u001b[0m\u001b[1mresponse    \u001b[0m\u001b[1m \u001b[0m┃\u001b[1m \u001b[0m\u001b[1mreference   \u001b[0m\u001b[1m \u001b[0m┃\u001b[1m \u001b[0m\u001b[1manswer_rele…\u001b[0m\u001b[1m \u001b[0m┃\u001b[1m \u001b[0m\u001b[1mcontext_pre…\u001b[0m\u001b[1m \u001b[0m┃\u001b[1m \u001b[0m\u001b[1mfaithfulness\u001b[0m\u001b[1m \u001b[0m┃\u001b[1m \u001b[0m\u001b[1mcontext_re…\u001b[0m\u001b[1m \u001b[0m┃\n",
       "┡━━━━━━━━━━━━━━╇━━━━━━━━━━━━━━╇━━━━━━━━━━━━━━╇━━━━━━━━━━━━━━╇━━━━━━━━━━━━━━╇━━━━━━━━━━━━━━╇━━━━━━━━━━━━━━╇━━━━━━━━━━━━━┩\n",
       "│ What is the  │ ['Paris is   │ The capital  │ Paris        │ 0.962092759  │ 0.9999999999 │ 1            │ 0.66666666… │\n",
       "│ capital of   │ the capital  │ of France is │              │              │              │              │             │\n",
       "│ France?      │ and most     │ Paris.       │              │              │              │              │             │\n",
       "│              │ populous     │              │              │              │              │              │             │\n",
       "│              │ city of      │              │              │              │              │              │             │\n",
       "│              │ France.']    │              │              │              │              │              │             │\n",
       "│ Who invented │ ['Alexander  │ Alexander    │ Alexander    │ 1.0          │ 0.9999999999 │ 1            │ 0.66666666… │\n",
       "│ the          │ Graham Bell  │ Graham Bell  │ Graham Bell  │              │              │              │             │\n",
       "│ telephone?   │ was a        │ invented the │              │              │              │              │             │\n",
       "│              │ Scottish-Am… │ telephone in │              │              │              │              │             │\n",
       "│              │ inventor who │ 1876.        │              │              │              │              │             │\n",
       "│              │ patented the │              │              │              │              │              │             │\n",
       "│              │ first        │              │              │              │              │              │             │\n",
       "│              │ practical    │              │              │              │              │              │             │\n",
       "│              │ telephone.'] │              │              │              │              │              │             │\n",
       "│ What is      │ ['Photosynt… │ Photosynthe… │ Photosynthe… │ 1.0          │ 0.9999999999 │ 1            │ 0.66666666… │\n",
       "│ photosynthe… │ is a process │ is the       │ is the       │              │              │              │             │\n",
       "│              │ used by      │ process by   │ process by   │              │              │              │             │\n",
       "│              │ plants to    │ which plants │ which plants │              │              │              │             │\n",
       "│              │ convert      │ convert      │ and other    │              │              │              │             │\n",
       "│              │ light energy │ sunlight     │ organisms    │              │              │              │             │\n",
       "│              │ into         │ into energy. │ convert      │              │              │              │             │\n",
       "│              │ chemical     │              │ light energy │              │              │              │             │\n",
       "│              │ energy.']    │              │ into         │              │              │              │             │\n",
       "│              │              │              │ chemical     │              │              │              │             │\n",
       "│              │              │              │ energy.      │              │              │              │             │\n",
       "└──────────────┴──────────────┴──────────────┴──────────────┴──────────────┴──────────────┴──────────────┴─────────────┘\n"
      ]
     },
     "metadata": {},
     "output_type": "display_data"
    },
    {
     "data": {
      "text/html": [
       "<pre style=\"white-space:pre;overflow-x:auto;line-height:normal;font-family:Menlo,'DejaVu Sans Mono',consolas,'Courier New',monospace\"><span style=\"color: #800080; text-decoration-color: #800080; font-weight: bold\">EvalJob</span><span style=\"font-weight: bold\">(</span>\n",
       "<span style=\"color: #7fbf7f; text-decoration-color: #7fbf7f\">│   </span><span style=\"color: #808000; text-decoration-color: #808000\">job_id</span>=<span style=\"color: #008000; text-decoration-color: #008000\">'6b7adf44-f5f1-49a0-9330-d05d21b50f72'</span>,\n",
       "<span style=\"color: #7fbf7f; text-decoration-color: #7fbf7f\">│   </span><span style=\"color: #808000; text-decoration-color: #808000\">status</span>=<span style=\"color: #008000; text-decoration-color: #008000\">'completed'</span>,\n",
       "<span style=\"color: #7fbf7f; text-decoration-color: #7fbf7f\">│   </span><span style=\"color: #808000; text-decoration-color: #808000\">eval_config</span>=<span style=\"color: #800080; text-decoration-color: #800080; font-weight: bold\">EvalConfig</span><span style=\"font-weight: bold\">(</span>\n",
       "<span style=\"color: #7fbf7f; text-decoration-color: #7fbf7f\">│   │   </span><span style=\"color: #808000; text-decoration-color: #808000\">input_dataset_uri</span>=<span style=\"color: #008000; text-decoration-color: #008000\">'s3://public-rhods/ragas-evaluation-pipeline/ragas_demo_dataset_remote_input.jsonl'</span>,\n",
       "<span style=\"color: #7fbf7f; text-decoration-color: #7fbf7f\">│   │   </span><span style=\"color: #808000; text-decoration-color: #808000\">output_dataset_uri</span>=<span style=\"color: #008000; text-decoration-color: #008000\">'s3://public-rhods/ragas-evaluation-pipeline/ragas_demo_dataset_remote_output.jsonl'</span>,\n",
       "<span style=\"color: #7fbf7f; text-decoration-color: #7fbf7f\">│   │   </span><span style=\"color: #808000; text-decoration-color: #808000\">inference_url</span>=<span style=\"color: #008000; text-decoration-color: #008000\">'https://83e9089ea2c2.ngrok-free.app'</span>,\n",
       "<span style=\"color: #7fbf7f; text-decoration-color: #7fbf7f\">│   │   </span><span style=\"color: #808000; text-decoration-color: #808000\">model</span>=<span style=\"color: #008000; text-decoration-color: #008000\">'granite3.3:2b'</span>,\n",
       "<span style=\"color: #7fbf7f; text-decoration-color: #7fbf7f\">│   │   </span><span style=\"color: #808000; text-decoration-color: #808000\">model_params</span>=<span style=\"font-weight: bold\">{</span><span style=\"color: #008000; text-decoration-color: #008000\">'temperature'</span>: <span style=\"color: #008080; text-decoration-color: #008080; font-weight: bold\">0.1</span>, <span style=\"color: #008000; text-decoration-color: #008000\">'max_tokens'</span>: <span style=\"color: #008080; text-decoration-color: #008080; font-weight: bold\">100</span><span style=\"font-weight: bold\">}</span>,\n",
       "<span style=\"color: #7fbf7f; text-decoration-color: #7fbf7f\">│   │   </span><span style=\"color: #808000; text-decoration-color: #808000\">embedding_model</span>=<span style=\"color: #008000; text-decoration-color: #008000\">'all-minilm:l6-v2'</span>,\n",
       "<span style=\"color: #7fbf7f; text-decoration-color: #7fbf7f\">│   │   </span><span style=\"color: #808000; text-decoration-color: #808000\">metric_names</span>=<span style=\"font-weight: bold\">[</span><span style=\"color: #008000; text-decoration-color: #008000\">'answer_relevancy'</span>, <span style=\"color: #008000; text-decoration-color: #008000\">'context_precision'</span>, <span style=\"color: #008000; text-decoration-color: #008000\">'faithfulness'</span>, <span style=\"color: #008000; text-decoration-color: #008000\">'context_recall'</span><span style=\"font-weight: bold\">]</span>,\n",
       "<span style=\"color: #7fbf7f; text-decoration-color: #7fbf7f\">│   │   </span><span style=\"color: #808000; text-decoration-color: #808000\">ragas_config</span>=<span style=\"color: #800080; text-decoration-color: #800080; font-weight: bold\">RagasConfig</span><span style=\"font-weight: bold\">(</span><span style=\"color: #808000; text-decoration-color: #808000\">batch_size</span>=<span style=\"color: #800080; text-decoration-color: #800080; font-style: italic\">None</span>, <span style=\"color: #808000; text-decoration-color: #808000\">show_progress</span>=<span style=\"color: #00ff00; text-decoration-color: #00ff00; font-style: italic\">True</span>, <span style=\"color: #808000; text-decoration-color: #808000\">raise_exceptions</span>=<span style=\"color: #00ff00; text-decoration-color: #00ff00; font-style: italic\">True</span>, <span style=\"color: #808000; text-decoration-color: #808000\">column_map</span>=<span style=\"color: #800080; text-decoration-color: #800080; font-style: italic\">None</span><span style=\"font-weight: bold\">)</span>\n",
       "<span style=\"color: #7fbf7f; text-decoration-color: #7fbf7f\">│   </span><span style=\"font-weight: bold\">)</span>,\n",
       "<span style=\"color: #7fbf7f; text-decoration-color: #7fbf7f\">│   </span><span style=\"color: #808000; text-decoration-color: #808000\">kubeflow_run_id</span>=<span style=\"color: #008000; text-decoration-color: #008000\">'c82567ad-644c-42ce-b91f-22d06378ce29'</span>,\n",
       "<span style=\"color: #7fbf7f; text-decoration-color: #7fbf7f\">│   </span><span style=\"color: #808000; text-decoration-color: #808000\">result</span>=                       user_input  \\\n",
       "<span style=\"color: #008080; text-decoration-color: #008080; font-weight: bold\">0</span>  What is the capital of France?   \n",
       "<span style=\"color: #008080; text-decoration-color: #008080; font-weight: bold\">1</span>     Who invented the telephone?   \n",
       "<span style=\"color: #008080; text-decoration-color: #008080; font-weight: bold\">2</span>         What is photosynthesis?   \n",
       "<span style=\"color: #7fbf7f; text-decoration-color: #7fbf7f\">│   │   │   │   │   │   │   │     </span>\n",
       "<span style=\"color: #7fbf7f; text-decoration-color: #7fbf7f\">│   │   │   │   │   │   │   │     </span>retrieved_contexts  \\\n",
       "<span style=\"color: #008080; text-decoration-color: #008080; font-weight: bold\">0</span>  <span style=\"font-weight: bold\">[</span>Paris is the capital and most populous city o<span style=\"color: #808000; text-decoration-color: #808000\">...</span>   \n",
       "<span style=\"color: #008080; text-decoration-color: #008080; font-weight: bold\">1</span>  <span style=\"font-weight: bold\">[</span>Alexander Graham Bell was a Scottish-American<span style=\"color: #808000; text-decoration-color: #808000\">...</span>   \n",
       "<span style=\"color: #008080; text-decoration-color: #008080; font-weight: bold\">2</span>  <span style=\"font-weight: bold\">[</span>Photosynthesis is a process used by plants to<span style=\"color: #808000; text-decoration-color: #808000\">...</span>   \n",
       "<span style=\"color: #7fbf7f; text-decoration-color: #7fbf7f\">│   │   │   │   │   │   │   │   │   │   │   </span>\n",
       "<span style=\"color: #7fbf7f; text-decoration-color: #7fbf7f\">│   │   │   │   │   │   │   │   │   │   │   </span>response  \\\n",
       "<span style=\"color: #008080; text-decoration-color: #008080; font-weight: bold\">0</span>                    The capital of France is Paris.   \n",
       "<span style=\"color: #008080; text-decoration-color: #008080; font-weight: bold\">1</span>  Alexander Graham Bell invented the telephone i<span style=\"color: #808000; text-decoration-color: #808000\">...</span>   \n",
       "<span style=\"color: #008080; text-decoration-color: #008080; font-weight: bold\">2</span>  Photosynthesis is the process by which plants <span style=\"color: #808000; text-decoration-color: #808000\">...</span>   \n",
       "<span style=\"color: #7fbf7f; text-decoration-color: #7fbf7f\">│   │   │   │   │   │   │   │   │   │      </span>\n",
       "<span style=\"color: #7fbf7f; text-decoration-color: #7fbf7f\">│   │   │   │   │   │   │   │   │   │      </span>reference  answer_relevancy  \\\n",
       "<span style=\"color: #008080; text-decoration-color: #008080; font-weight: bold\">0</span>                                              Paris          <span style=\"color: #008080; text-decoration-color: #008080; font-weight: bold\">0.962093</span>   \n",
       "<span style=\"color: #008080; text-decoration-color: #008080; font-weight: bold\">1</span>                              Alexander Graham Bell          <span style=\"color: #008080; text-decoration-color: #008080; font-weight: bold\">1.000000</span>   \n",
       "<span style=\"color: #008080; text-decoration-color: #008080; font-weight: bold\">2</span>  Photosynthesis is the process by which plants <span style=\"color: #808000; text-decoration-color: #808000\">...</span>          <span style=\"color: #008080; text-decoration-color: #008080; font-weight: bold\">1.000000</span>   \n",
       "<span style=\"color: #7fbf7f; text-decoration-color: #7fbf7f\">   </span>\n",
       "<span style=\"color: #7fbf7f; text-decoration-color: #7fbf7f\">   </span>context_precision  faithfulness  context_recall  \n",
       "<span style=\"color: #008080; text-decoration-color: #008080; font-weight: bold\">0</span>                <span style=\"color: #008080; text-decoration-color: #008080; font-weight: bold\">1.0</span>             <span style=\"color: #008080; text-decoration-color: #008080; font-weight: bold\">1</span>        <span style=\"color: #008080; text-decoration-color: #008080; font-weight: bold\">0.666667</span>  \n",
       "<span style=\"color: #008080; text-decoration-color: #008080; font-weight: bold\">1</span>                <span style=\"color: #008080; text-decoration-color: #008080; font-weight: bold\">1.0</span>             <span style=\"color: #008080; text-decoration-color: #008080; font-weight: bold\">1</span>        <span style=\"color: #008080; text-decoration-color: #008080; font-weight: bold\">0.666667</span>  \n",
       "<span style=\"color: #008080; text-decoration-color: #008080; font-weight: bold\">2</span>                <span style=\"color: #008080; text-decoration-color: #008080; font-weight: bold\">1.0</span>             <span style=\"color: #008080; text-decoration-color: #008080; font-weight: bold\">1</span>        <span style=\"color: #008080; text-decoration-color: #008080; font-weight: bold\">0.666667</span>  \n",
       "<span style=\"font-weight: bold\">)</span>\n",
       "</pre>\n"
      ],
      "text/plain": [
       "\u001b[1;35mEvalJob\u001b[0m\u001b[1m(\u001b[0m\n",
       "\u001b[2;32m│   \u001b[0m\u001b[33mjob_id\u001b[0m=\u001b[32m'6b7adf44-f5f1-49a0-9330-d05d21b50f72'\u001b[0m,\n",
       "\u001b[2;32m│   \u001b[0m\u001b[33mstatus\u001b[0m=\u001b[32m'completed'\u001b[0m,\n",
       "\u001b[2;32m│   \u001b[0m\u001b[33meval_config\u001b[0m=\u001b[1;35mEvalConfig\u001b[0m\u001b[1m(\u001b[0m\n",
       "\u001b[2;32m│   │   \u001b[0m\u001b[33minput_dataset_uri\u001b[0m=\u001b[32m's3://public-rhods/ragas-evaluation-pipeline/ragas_demo_dataset_remote_input.jsonl'\u001b[0m,\n",
       "\u001b[2;32m│   │   \u001b[0m\u001b[33moutput_dataset_uri\u001b[0m=\u001b[32m's3://public-rhods/ragas-evaluation-pipeline/ragas_demo_dataset_remote_output.jsonl'\u001b[0m,\n",
       "\u001b[2;32m│   │   \u001b[0m\u001b[33minference_url\u001b[0m=\u001b[32m'https://83e9089ea2c2.ngrok-free.app'\u001b[0m,\n",
       "\u001b[2;32m│   │   \u001b[0m\u001b[33mmodel\u001b[0m=\u001b[32m'granite3.3:2b'\u001b[0m,\n",
       "\u001b[2;32m│   │   \u001b[0m\u001b[33mmodel_params\u001b[0m=\u001b[1m{\u001b[0m\u001b[32m'temperature'\u001b[0m: \u001b[1;36m0.1\u001b[0m, \u001b[32m'max_tokens'\u001b[0m: \u001b[1;36m100\u001b[0m\u001b[1m}\u001b[0m,\n",
       "\u001b[2;32m│   │   \u001b[0m\u001b[33membedding_model\u001b[0m=\u001b[32m'all-minilm:l6-v2'\u001b[0m,\n",
       "\u001b[2;32m│   │   \u001b[0m\u001b[33mmetric_names\u001b[0m=\u001b[1m[\u001b[0m\u001b[32m'answer_relevancy'\u001b[0m, \u001b[32m'context_precision'\u001b[0m, \u001b[32m'faithfulness'\u001b[0m, \u001b[32m'context_recall'\u001b[0m\u001b[1m]\u001b[0m,\n",
       "\u001b[2;32m│   │   \u001b[0m\u001b[33mragas_config\u001b[0m=\u001b[1;35mRagasConfig\u001b[0m\u001b[1m(\u001b[0m\u001b[33mbatch_size\u001b[0m=\u001b[3;35mNone\u001b[0m, \u001b[33mshow_progress\u001b[0m=\u001b[3;92mTrue\u001b[0m, \u001b[33mraise_exceptions\u001b[0m=\u001b[3;92mTrue\u001b[0m, \u001b[33mcolumn_map\u001b[0m=\u001b[3;35mNone\u001b[0m\u001b[1m)\u001b[0m\n",
       "\u001b[2;32m│   \u001b[0m\u001b[1m)\u001b[0m,\n",
       "\u001b[2;32m│   \u001b[0m\u001b[33mkubeflow_run_id\u001b[0m=\u001b[32m'c82567ad-644c-42ce-b91f-22d06378ce29'\u001b[0m,\n",
       "\u001b[2;32m│   \u001b[0m\u001b[33mresult\u001b[0m=                       user_input  \\\n",
       "\u001b[1;36m0\u001b[0m  What is the capital of France?   \n",
       "\u001b[1;36m1\u001b[0m     Who invented the telephone?   \n",
       "\u001b[1;36m2\u001b[0m         What is photosynthesis?   \n",
       "\u001b[2;32m│   │   │   │   │   │   │   │     \u001b[0m\n",
       "\u001b[2;32m│   │   │   │   │   │   │   │     \u001b[0mretrieved_contexts  \\\n",
       "\u001b[1;36m0\u001b[0m  \u001b[1m[\u001b[0mParis is the capital and most populous city o\u001b[33m...\u001b[0m   \n",
       "\u001b[1;36m1\u001b[0m  \u001b[1m[\u001b[0mAlexander Graham Bell was a Scottish-American\u001b[33m...\u001b[0m   \n",
       "\u001b[1;36m2\u001b[0m  \u001b[1m[\u001b[0mPhotosynthesis is a process used by plants to\u001b[33m...\u001b[0m   \n",
       "\u001b[2;32m│   │   │   │   │   │   │   │   │   │   │   \u001b[0m\n",
       "\u001b[2;32m│   │   │   │   │   │   │   │   │   │   │   \u001b[0mresponse  \\\n",
       "\u001b[1;36m0\u001b[0m                    The capital of France is Paris.   \n",
       "\u001b[1;36m1\u001b[0m  Alexander Graham Bell invented the telephone i\u001b[33m...\u001b[0m   \n",
       "\u001b[1;36m2\u001b[0m  Photosynthesis is the process by which plants \u001b[33m...\u001b[0m   \n",
       "\u001b[2;32m│   │   │   │   │   │   │   │   │   │      \u001b[0m\n",
       "\u001b[2;32m│   │   │   │   │   │   │   │   │   │      \u001b[0mreference  answer_relevancy  \\\n",
       "\u001b[1;36m0\u001b[0m                                              Paris          \u001b[1;36m0.962093\u001b[0m   \n",
       "\u001b[1;36m1\u001b[0m                              Alexander Graham Bell          \u001b[1;36m1.000000\u001b[0m   \n",
       "\u001b[1;36m2\u001b[0m  Photosynthesis is the process by which plants \u001b[33m...\u001b[0m          \u001b[1;36m1.000000\u001b[0m   \n",
       "\u001b[2;32m   \u001b[0m\n",
       "\u001b[2;32m   \u001b[0mcontext_precision  faithfulness  context_recall  \n",
       "\u001b[1;36m0\u001b[0m                \u001b[1;36m1.0\u001b[0m             \u001b[1;36m1\u001b[0m        \u001b[1;36m0.666667\u001b[0m  \n",
       "\u001b[1;36m1\u001b[0m                \u001b[1;36m1.0\u001b[0m             \u001b[1;36m1\u001b[0m        \u001b[1;36m0.666667\u001b[0m  \n",
       "\u001b[1;36m2\u001b[0m                \u001b[1;36m1.0\u001b[0m             \u001b[1;36m1\u001b[0m        \u001b[1;36m0.666667\u001b[0m  \n",
       "\u001b[1m)\u001b[0m\n"
      ]
     },
     "metadata": {},
     "output_type": "display_data"
    }
   ],
   "source": [
    "# wait a few moments for the pipeline to finish\n",
    "pprint(pipeline_runner.job_status(job_id=job.job_id))"
   ]
  },
  {
   "cell_type": "code",
   "execution_count": 15,
   "metadata": {},
   "outputs": [
    {
     "data": {
      "text/html": [
       "<pre style=\"white-space:pre;overflow-x:auto;line-height:normal;font-family:Menlo,'DejaVu Sans Mono',consolas,'Courier New',monospace\"><span style=\"color: #7fbf7f; text-decoration-color: #7fbf7f\">│   │   │   │   │      </span>user_input  \\\n",
       "<span style=\"color: #008080; text-decoration-color: #008080; font-weight: bold\">0</span>  What is the capital of France?   \n",
       "<span style=\"color: #008080; text-decoration-color: #008080; font-weight: bold\">1</span>     Who invented the telephone?   \n",
       "<span style=\"color: #008080; text-decoration-color: #008080; font-weight: bold\">2</span>         What is photosynthesis?   \n",
       "<span style=\"color: #7fbf7f; text-decoration-color: #7fbf7f\">│   │   │   │   │   │   │   │     </span>\n",
       "<span style=\"color: #7fbf7f; text-decoration-color: #7fbf7f\">│   │   │   │   │   │   │   │     </span>retrieved_contexts  \\\n",
       "<span style=\"color: #008080; text-decoration-color: #008080; font-weight: bold\">0</span>  <span style=\"font-weight: bold\">[</span>Paris is the capital and most populous city o<span style=\"color: #808000; text-decoration-color: #808000\">...</span>   \n",
       "<span style=\"color: #008080; text-decoration-color: #008080; font-weight: bold\">1</span>  <span style=\"font-weight: bold\">[</span>Alexander Graham Bell was a Scottish-American<span style=\"color: #808000; text-decoration-color: #808000\">...</span>   \n",
       "<span style=\"color: #008080; text-decoration-color: #008080; font-weight: bold\">2</span>  <span style=\"font-weight: bold\">[</span>Photosynthesis is a process used by plants to<span style=\"color: #808000; text-decoration-color: #808000\">...</span>   \n",
       "<span style=\"color: #7fbf7f; text-decoration-color: #7fbf7f\">│   │   │   │   │   │   │   │   │   │   │   </span>\n",
       "<span style=\"color: #7fbf7f; text-decoration-color: #7fbf7f\">│   │   │   │   │   │   │   │   │   │   │   </span>response  \\\n",
       "<span style=\"color: #008080; text-decoration-color: #008080; font-weight: bold\">0</span>                    The capital of France is Paris.   \n",
       "<span style=\"color: #008080; text-decoration-color: #008080; font-weight: bold\">1</span>  Alexander Graham Bell invented the telephone i<span style=\"color: #808000; text-decoration-color: #808000\">...</span>   \n",
       "<span style=\"color: #008080; text-decoration-color: #008080; font-weight: bold\">2</span>  Photosynthesis is the process by which plants <span style=\"color: #808000; text-decoration-color: #808000\">...</span>   \n",
       "<span style=\"color: #7fbf7f; text-decoration-color: #7fbf7f\">│   │   │   │   │   │   │   │   │   │      </span>\n",
       "<span style=\"color: #7fbf7f; text-decoration-color: #7fbf7f\">│   │   │   │   │   │   │   │   │   │      </span>reference  answer_relevancy  \\\n",
       "<span style=\"color: #008080; text-decoration-color: #008080; font-weight: bold\">0</span>                                              Paris          <span style=\"color: #008080; text-decoration-color: #008080; font-weight: bold\">0.962093</span>   \n",
       "<span style=\"color: #008080; text-decoration-color: #008080; font-weight: bold\">1</span>                              Alexander Graham Bell          <span style=\"color: #008080; text-decoration-color: #008080; font-weight: bold\">1.000000</span>   \n",
       "<span style=\"color: #008080; text-decoration-color: #008080; font-weight: bold\">2</span>  Photosynthesis is the process by which plants <span style=\"color: #808000; text-decoration-color: #808000\">...</span>          <span style=\"color: #008080; text-decoration-color: #008080; font-weight: bold\">1.000000</span>   \n",
       "<span style=\"color: #7fbf7f; text-decoration-color: #7fbf7f\">   </span>\n",
       "<span style=\"color: #7fbf7f; text-decoration-color: #7fbf7f\">   </span>context_precision  faithfulness  context_recall  \n",
       "<span style=\"color: #008080; text-decoration-color: #008080; font-weight: bold\">0</span>                <span style=\"color: #008080; text-decoration-color: #008080; font-weight: bold\">1.0</span>             <span style=\"color: #008080; text-decoration-color: #008080; font-weight: bold\">1</span>        <span style=\"color: #008080; text-decoration-color: #008080; font-weight: bold\">0.666667</span>  \n",
       "<span style=\"color: #008080; text-decoration-color: #008080; font-weight: bold\">1</span>                <span style=\"color: #008080; text-decoration-color: #008080; font-weight: bold\">1.0</span>             <span style=\"color: #008080; text-decoration-color: #008080; font-weight: bold\">1</span>        <span style=\"color: #008080; text-decoration-color: #008080; font-weight: bold\">0.666667</span>  \n",
       "<span style=\"color: #008080; text-decoration-color: #008080; font-weight: bold\">2</span>                <span style=\"color: #008080; text-decoration-color: #008080; font-weight: bold\">1.0</span>             <span style=\"color: #008080; text-decoration-color: #008080; font-weight: bold\">1</span>        <span style=\"color: #008080; text-decoration-color: #008080; font-weight: bold\">0.666667</span>  \n",
       "</pre>\n"
      ],
      "text/plain": [
       "\u001b[2;32m│   │   │   │   │      \u001b[0muser_input  \\\n",
       "\u001b[1;36m0\u001b[0m  What is the capital of France?   \n",
       "\u001b[1;36m1\u001b[0m     Who invented the telephone?   \n",
       "\u001b[1;36m2\u001b[0m         What is photosynthesis?   \n",
       "\u001b[2;32m│   │   │   │   │   │   │   │     \u001b[0m\n",
       "\u001b[2;32m│   │   │   │   │   │   │   │     \u001b[0mretrieved_contexts  \\\n",
       "\u001b[1;36m0\u001b[0m  \u001b[1m[\u001b[0mParis is the capital and most populous city o\u001b[33m...\u001b[0m   \n",
       "\u001b[1;36m1\u001b[0m  \u001b[1m[\u001b[0mAlexander Graham Bell was a Scottish-American\u001b[33m...\u001b[0m   \n",
       "\u001b[1;36m2\u001b[0m  \u001b[1m[\u001b[0mPhotosynthesis is a process used by plants to\u001b[33m...\u001b[0m   \n",
       "\u001b[2;32m│   │   │   │   │   │   │   │   │   │   │   \u001b[0m\n",
       "\u001b[2;32m│   │   │   │   │   │   │   │   │   │   │   \u001b[0mresponse  \\\n",
       "\u001b[1;36m0\u001b[0m                    The capital of France is Paris.   \n",
       "\u001b[1;36m1\u001b[0m  Alexander Graham Bell invented the telephone i\u001b[33m...\u001b[0m   \n",
       "\u001b[1;36m2\u001b[0m  Photosynthesis is the process by which plants \u001b[33m...\u001b[0m   \n",
       "\u001b[2;32m│   │   │   │   │   │   │   │   │   │      \u001b[0m\n",
       "\u001b[2;32m│   │   │   │   │   │   │   │   │   │      \u001b[0mreference  answer_relevancy  \\\n",
       "\u001b[1;36m0\u001b[0m                                              Paris          \u001b[1;36m0.962093\u001b[0m   \n",
       "\u001b[1;36m1\u001b[0m                              Alexander Graham Bell          \u001b[1;36m1.000000\u001b[0m   \n",
       "\u001b[1;36m2\u001b[0m  Photosynthesis is the process by which plants \u001b[33m...\u001b[0m          \u001b[1;36m1.000000\u001b[0m   \n",
       "\u001b[2;32m   \u001b[0m\n",
       "\u001b[2;32m   \u001b[0mcontext_precision  faithfulness  context_recall  \n",
       "\u001b[1;36m0\u001b[0m                \u001b[1;36m1.0\u001b[0m             \u001b[1;36m1\u001b[0m        \u001b[1;36m0.666667\u001b[0m  \n",
       "\u001b[1;36m1\u001b[0m                \u001b[1;36m1.0\u001b[0m             \u001b[1;36m1\u001b[0m        \u001b[1;36m0.666667\u001b[0m  \n",
       "\u001b[1;36m2\u001b[0m                \u001b[1;36m1.0\u001b[0m             \u001b[1;36m1\u001b[0m        \u001b[1;36m0.666667\u001b[0m  \n"
      ]
     },
     "metadata": {},
     "output_type": "display_data"
    }
   ],
   "source": [
    "pprint(pipeline_runner.job_result(job_id=job.job_id))"
   ]
  }
 ],
 "metadata": {
  "kernelspec": {
   "display_name": ".venv",
   "language": "python",
   "name": "python3"
  },
  "language_info": {
   "codemirror_mode": {
    "name": "ipython",
    "version": 3
   },
   "file_extension": ".py",
   "mimetype": "text/x-python",
   "name": "python",
   "nbconvert_exporter": "python",
   "pygments_lexer": "ipython3",
   "version": "3.13.3"
  }
 },
 "nbformat": 4,
 "nbformat_minor": 4
}
