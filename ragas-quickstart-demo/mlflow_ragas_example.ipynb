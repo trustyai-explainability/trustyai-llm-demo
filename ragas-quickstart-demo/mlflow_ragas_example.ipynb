{
 "cells": [
  {
   "cell_type": "markdown",
   "metadata": {},
   "source": [
    "# MLflow Ragas Evaluation Example\n",
    "\n",
    "This notebook demonstrates how to use `mlflow.evaluate()` with a custom Ragas evaluator plugin that runs evaluations via Kubeflow Pipelines.\n",
    "\n",
    "## Prerequisites\n",
    "\n",
    "- Have a Kubeflow Pipelines endpoint available.\n",
    "- Setup env vars in .env file.\n",
    "- Have access to the S3 bucket used for storing evaluation results."
   ]
  },
  {
   "cell_type": "markdown",
   "metadata": {},
   "source": [
    "## Imports"
   ]
  },
  {
   "cell_type": "code",
   "execution_count": 1,
   "metadata": {},
   "outputs": [],
   "source": [
    "from rich import print as rprint\n",
    "import mlflow\n",
    "import pandas as pd"
   ]
  },
  {
   "cell_type": "markdown",
   "metadata": {},
   "source": [
    "## MLflow setup\n",
    "Run MLflow locally with\n",
    "```bash\n",
    "mlflow ui --backend-store-uri sqlite:///mlflow.db --port 5000\n",
    "```\n"
   ]
  },
  {
   "cell_type": "code",
   "execution_count": 2,
   "metadata": {},
   "outputs": [],
   "source": [
    "mlflow.set_tracking_uri(\"http://localhost:5000\")"
   ]
  },
  {
   "cell_type": "markdown",
   "metadata": {},
   "source": [
    "Ensure that our entry-point in pyproject.toml gets picked up by the MFflow plugin discovery. You should see ragas_kubeflow in the list of available evaluators:"
   ]
  },
  {
   "cell_type": "code",
   "execution_count": 3,
   "metadata": {},
   "outputs": [
    {
     "name": "stderr",
     "output_type": "stream",
     "text": [
      "/Users/dmanilof/src/trustyai-llm-demo/ragas-quickstart-demo/.venv/lib/python3.12/site-packages/tqdm/auto.py:21: TqdmWarning: IProgress not found. Please update jupyter and ipywidgets. See https://ipywidgets.readthedocs.io/en/stable/user_install.html\n",
      "  from .autonotebook import tqdm as notebook_tqdm\n"
     ]
    },
    {
     "data": {
      "text/html": [
       "<pre style=\"white-space:pre;overflow-x:auto;line-height:normal;font-family:Menlo,'DejaVu Sans Mono',consolas,'Courier New',monospace\"><span style=\"font-weight: bold\">[</span><span style=\"color: #008000; text-decoration-color: #008000\">'default'</span>, <span style=\"color: #008000; text-decoration-color: #008000\">'classifier'</span>, <span style=\"color: #008000; text-decoration-color: #008000\">'regressor'</span>, <span style=\"color: #008000; text-decoration-color: #008000\">'shap'</span>, <span style=\"color: #008000; text-decoration-color: #008000\">'ragas_kubeflow'</span><span style=\"font-weight: bold\">]</span>\n",
       "</pre>\n"
      ],
      "text/plain": [
       "\u001b[1m[\u001b[0m\u001b[32m'default'\u001b[0m, \u001b[32m'classifier'\u001b[0m, \u001b[32m'regressor'\u001b[0m, \u001b[32m'shap'\u001b[0m, \u001b[32m'ragas_kubeflow'\u001b[0m\u001b[1m]\u001b[0m\n"
      ]
     },
     "metadata": {},
     "output_type": "display_data"
    }
   ],
   "source": [
    "rprint(mlflow.models.list_evaluators())\n",
    "assert \"ragas_kubeflow\" in mlflow.models.list_evaluators()"
   ]
  },
  {
   "cell_type": "markdown",
   "metadata": {},
   "source": [
    "## Make sure things run: test with a static dataset using MLflow's default evaluator\n"
   ]
  },
  {
   "cell_type": "code",
   "execution_count": 4,
   "metadata": {},
   "outputs": [
    {
     "name": "stderr",
     "output_type": "stream",
     "text": [
      "2025/09/05 15:37:47 INFO mlflow.models.evaluation.default_evaluator: Testing metrics on first row...\n",
      "100%|██████████| 1/1 [00:00<00:00, 32.60it/s]\n",
      "/Users/dmanilof/src/trustyai-llm-demo/ragas-quickstart-demo/.venv/lib/python3.12/site-packages/numpy/_core/fromnumeric.py:3860: RuntimeWarning: Mean of empty slice.\n",
      "  return _methods._mean(a, axis=axis, dtype=dtype,\n",
      "/Users/dmanilof/src/trustyai-llm-demo/ragas-quickstart-demo/.venv/lib/python3.12/site-packages/numpy/_core/_methods.py:144: RuntimeWarning: invalid value encountered in scalar divide\n",
      "  ret = ret.dtype.type(ret / rcount)\n",
      "/Users/dmanilof/src/trustyai-llm-demo/ragas-quickstart-demo/.venv/lib/python3.12/site-packages/numpy/_core/fromnumeric.py:4268: RuntimeWarning: Degrees of freedom <= 0 for slice\n",
      "  return _methods._var(a, axis=axis, dtype=dtype, out=out, ddof=ddof,\n",
      "/Users/dmanilof/src/trustyai-llm-demo/ragas-quickstart-demo/.venv/lib/python3.12/site-packages/numpy/_core/_methods.py:180: RuntimeWarning: invalid value encountered in divide\n",
      "  arrmean = um.true_divide(arrmean, div, out=arrmean,\n",
      "/Users/dmanilof/src/trustyai-llm-demo/ragas-quickstart-demo/.venv/lib/python3.12/site-packages/numpy/_core/_methods.py:214: RuntimeWarning: invalid value encountered in scalar divide\n",
      "  ret = ret.dtype.type(ret / rcount)\n",
      "100%|██████████| 3/3 [00:00<00:00, 63872.65it/s]"
     ]
    },
    {
     "name": "stdout",
     "output_type": "stream",
     "text": [
      "✅ Static dataset evaluation completed!\n",
      "   Run ID: 964657ffc1374fb985648be01b9bb97d\n",
      "\n",
      "📊 Metrics:\n",
      "   answer_similarity/v1/mean: nan\n",
      "   answer_similarity/v1/variance: nan\n",
      "🏃 View run rumbling-dove-216 at: http://localhost:5000/#/experiments/0/runs/964657ffc1374fb985648be01b9bb97d\n",
      "🧪 View experiment at: http://localhost:5000/#/experiments/0\n"
     ]
    },
    {
     "name": "stderr",
     "output_type": "stream",
     "text": [
      "\n"
     ]
    }
   ],
   "source": [
    "# Evaluation with static predictions\n",
    "eval_data_with_predictions = pd.DataFrame(\n",
    "    {\n",
    "        \"inputs\": [\n",
    "            \"What is the capital of France?\",\n",
    "            \"How does photosynthesis work?\",\n",
    "            \"Explain machine learning in simple terms\",\n",
    "        ],\n",
    "        \"context\": [\n",
    "            \"France is a country in Europe with Paris as its capital city.\",\n",
    "            \"Photosynthesis is the process by which plants use sunlight to make food.\",\n",
    "            \"Machine learning is a subset of AI that learns patterns from data.\",\n",
    "        ],\n",
    "        \"ground_truth\": [\n",
    "            \"Paris\",\n",
    "            \"Photosynthesis\",\n",
    "            \"Machine learning\",\n",
    "        ],\n",
    "        \"predictions\": [\n",
    "            \"Paris\",\n",
    "            \"Photosynthesis\",\n",
    "            \"Machine learning\",\n",
    "        ],\n",
    "    }\n",
    ")\n",
    "\n",
    "with mlflow.start_run() as run:\n",
    "    results = mlflow.evaluate(\n",
    "        data=eval_data_with_predictions,\n",
    "        targets=\"ground_truth\",\n",
    "        predictions=\"predictions\",\n",
    "        extra_metrics=[mlflow.metrics.genai.answer_similarity()],\n",
    "        evaluators=[\"default\"],\n",
    "    )\n",
    "\n",
    "    print(\"✅ Static dataset evaluation completed!\")\n",
    "    print(f\"   Run ID: {run.info.run_id}\")\n",
    "\n",
    "    # Show metrics\n",
    "    print(\"\\n📊 Metrics:\")\n",
    "    for metric_name, value in results.metrics.items():\n",
    "        print(f\"   {metric_name}: {value:.4f}\")"
   ]
  },
  {
   "cell_type": "markdown",
   "metadata": {},
   "source": [
    "## Evaluation over a static dataset with our custom pipeline runner on KFP"
   ]
  },
  {
   "cell_type": "code",
   "execution_count": 5,
   "metadata": {},
   "outputs": [
    {
     "data": {
      "text/html": [
       "<pre style=\"white-space:pre;overflow-x:auto;line-height:normal;font-family:Menlo,'DejaVu Sans Mono',consolas,'Courier New',monospace\">                       user_input  \\\n",
       "<span style=\"color: #008080; text-decoration-color: #008080; font-weight: bold\">0</span>  What is the capital of France?   \n",
       "<span style=\"color: #008080; text-decoration-color: #008080; font-weight: bold\">1</span>         What is photosynthesis?   \n",
       "\n",
       "                                            response  \\\n",
       "<span style=\"color: #008080; text-decoration-color: #008080; font-weight: bold\">0</span>                    The capital of France is Paris.   \n",
       "<span style=\"color: #008080; text-decoration-color: #008080; font-weight: bold\">1</span>  Photosynthesis is the process by which plants <span style=\"color: #808000; text-decoration-color: #808000\">...</span>   \n",
       "\n",
       "                                  retrieved_contexts  \\\n",
       "<span style=\"color: #008080; text-decoration-color: #008080; font-weight: bold\">0</span>  <span style=\"font-weight: bold\">[</span>Paris is the capital and most populous city o<span style=\"color: #808000; text-decoration-color: #808000\">...</span>   \n",
       "<span style=\"color: #008080; text-decoration-color: #008080; font-weight: bold\">1</span>  <span style=\"font-weight: bold\">[</span>Photosynthesis is a process used by plants to<span style=\"color: #808000; text-decoration-color: #808000\">...</span>   \n",
       "\n",
       "                                           reference  \n",
       "<span style=\"color: #008080; text-decoration-color: #008080; font-weight: bold\">0</span>                                              Paris  \n",
       "<span style=\"color: #008080; text-decoration-color: #008080; font-weight: bold\">1</span>  Photosynthesis is the process by which plants <span style=\"color: #808000; text-decoration-color: #808000\">...</span>  \n",
       "</pre>\n"
      ],
      "text/plain": [
       "                       user_input  \\\n",
       "\u001b[1;36m0\u001b[0m  What is the capital of France?   \n",
       "\u001b[1;36m1\u001b[0m         What is photosynthesis?   \n",
       "\n",
       "                                            response  \\\n",
       "\u001b[1;36m0\u001b[0m                    The capital of France is Paris.   \n",
       "\u001b[1;36m1\u001b[0m  Photosynthesis is the process by which plants \u001b[33m...\u001b[0m   \n",
       "\n",
       "                                  retrieved_contexts  \\\n",
       "\u001b[1;36m0\u001b[0m  \u001b[1m[\u001b[0mParis is the capital and most populous city o\u001b[33m...\u001b[0m   \n",
       "\u001b[1;36m1\u001b[0m  \u001b[1m[\u001b[0mPhotosynthesis is a process used by plants to\u001b[33m...\u001b[0m   \n",
       "\n",
       "                                           reference  \n",
       "\u001b[1;36m0\u001b[0m                                              Paris  \n",
       "\u001b[1;36m1\u001b[0m  Photosynthesis is the process by which plants \u001b[33m...\u001b[0m  \n"
      ]
     },
     "metadata": {},
     "output_type": "display_data"
    }
   ],
   "source": [
    "# this will invoke the Ragas evaluator, so the dataset\n",
    "# should conform to the expected format for Ragas\n",
    "evaluation_data = pd.DataFrame.from_records(\n",
    "    [\n",
    "        {\n",
    "            \"user_input\": \"What is the capital of France?\",\n",
    "            \"response\": \"The capital of France is Paris.\",\n",
    "            \"retrieved_contexts\": [\n",
    "                \"Paris is the capital and most populous city of France.\"\n",
    "            ],\n",
    "            \"reference\": \"Paris\",\n",
    "        },\n",
    "        {\n",
    "            \"user_input\": \"What is photosynthesis?\",\n",
    "            \"response\": \"Photosynthesis is the process by which plants convert sunlight into energy.\",\n",
    "            \"retrieved_contexts\": [\n",
    "                \"Photosynthesis is a process used by plants to convert light energy into chemical energy.\"\n",
    "            ],\n",
    "            \"reference\": \"Photosynthesis is the process by which plants and other organisms convert light energy into chemical energy.\",\n",
    "        },\n",
    "    ]\n",
    ")\n",
    "rprint(evaluation_data)"
   ]
  },
  {
   "cell_type": "code",
   "execution_count": null,
   "metadata": {},
   "outputs": [
    {
     "name": "stderr",
     "output_type": "stream",
     "text": [
      "/Users/dmanilof/src/trustyai-llm-demo/ragas-quickstart-demo/.venv/lib/python3.12/site-packages/kfp/client/client.py:159: FutureWarning: This client only works with Kubeflow Pipeline v2.0.0-beta.2 and later versions.\n",
      "  warnings.warn(\n"
     ]
    },
    {
     "data": {
      "text/html": [
       "<pre style=\"white-space:pre;overflow-x:auto;line-height:normal;font-family:Menlo,'DejaVu Sans Mono',consolas,'Courier New',monospace\"><span style=\"font-weight: bold\">&lt;</span><span style=\"color: #ff00ff; text-decoration-color: #ff00ff; font-weight: bold\">mlflow.data.evaluation_dataset.EvaluationDataset</span><span style=\"color: #000000; text-decoration-color: #000000\"> object at </span><span style=\"color: #008080; text-decoration-color: #008080; font-weight: bold\">0x30d36acc0</span><span style=\"font-weight: bold\">&gt;</span>\n",
       "</pre>\n"
      ],
      "text/plain": [
       "\u001b[1m<\u001b[0m\u001b[1;95mmlflow.data.evaluation_dataset.EvaluationDataset\u001b[0m\u001b[39m object at \u001b[0m\u001b[1;36m0x30d36acc0\u001b[0m\u001b[1m>\u001b[0m\n"
      ]
     },
     "metadata": {},
     "output_type": "display_data"
    }
   ],
   "source": [
    "with mlflow.start_run() as run:\n",
    "    mlflow.evaluate(\n",
    "        data=evaluation_data,\n",
    "        model_type=\"ragas\",  # This just needs to pass can_evaluate()\n",
    "        evaluators=[\"ragas_kubeflow\"],  # This explicitly selects our evaluator\n",
    "        # evaluator_config={...}, # Can override config here\n",
    "    )"
   ]
  }
 ],
 "metadata": {
  "kernelspec": {
   "display_name": ".venv",
   "language": "python",
   "name": "python3"
  },
  "language_info": {
   "codemirror_mode": {
    "name": "ipython",
    "version": 3
   },
   "file_extension": ".py",
   "mimetype": "text/x-python",
   "name": "python",
   "nbconvert_exporter": "python",
   "pygments_lexer": "ipython3",
   "version": "3.12.11"
  }
 },
 "nbformat": 4,
 "nbformat_minor": 4
}
